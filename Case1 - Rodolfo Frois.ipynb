{
 "cells": [
  {
   "cell_type": "markdown",
   "id": "b35c0d86",
   "metadata": {},
   "source": [
    "# Case 1 -  Carregando arquivos"
   ]
  },
  {
   "cell_type": "code",
   "execution_count": 1,
   "id": "c43eea67",
   "metadata": {},
   "outputs": [],
   "source": [
    "import pandas as pd\n",
    "from pathlib import Path\n"
   ]
  },
  {
   "cell_type": "code",
   "execution_count": 2,
   "id": "7e872f1c",
   "metadata": {},
   "outputs": [],
   "source": [
    "path_data = 'Case 1 - Dados Fin/Dados Financeiros - Dados Recebidos.xlsx'\n",
    "path_structure ='Case 1 - Dados Fin/Dados Financeiros - Estrutura HData.xlsx'"
   ]
  },
  {
   "cell_type": "code",
   "execution_count": 3,
   "id": "3f94d7ec",
   "metadata": {},
   "outputs": [
    {
     "data": {
      "text/plain": [
       "['Fluxo Caixa - Planilha Padrao',\n",
       " 'Fluxo Caixa - Arq Completa',\n",
       " 'dim_centro_custos',\n",
       " 'dim_conta_financeira']"
      ]
     },
     "execution_count": 3,
     "metadata": {},
     "output_type": "execute_result"
    }
   ],
   "source": [
    "structure_file = pd.ExcelFile(path_structure)\n",
    "structure_file.sheet_names"
   ]
  },
  {
   "cell_type": "code",
   "execution_count": 4,
   "id": "8563f717",
   "metadata": {},
   "outputs": [
    {
     "data": {
      "text/plain": [
       "['LANCAMENTO',\n",
       " 'SALDOS INICIAIS',\n",
       " 'DEPARA_CENTRO_CUSTOS',\n",
       " 'DEPARA_CONTAS_FINANC']"
      ]
     },
     "execution_count": 4,
     "metadata": {},
     "output_type": "execute_result"
    }
   ],
   "source": [
    "data_file = pd.ExcelFile(path_data)\n",
    "data_file.sheet_names"
   ]
  },
  {
   "cell_type": "code",
   "execution_count": 5,
   "id": "38df9703",
   "metadata": {},
   "outputs": [],
   "source": [
    "base_arq = structure_file.parse('Fluxo Caixa - Planilha Padrao')"
   ]
  },
  {
   "cell_type": "code",
   "execution_count": null,
   "id": "0b8ceea8",
   "metadata": {},
   "outputs": [],
   "source": []
  },
  {
   "cell_type": "markdown",
   "id": "b2588280",
   "metadata": {},
   "source": [
    "## Fase 1 - identificar a sequencia da tabela a ser montada a partir do arquivo base"
   ]
  },
  {
   "cell_type": "code",
   "execution_count": 6,
   "id": "93ba1c24",
   "metadata": {},
   "outputs": [],
   "source": [
    "base_arq['De Para'] = base_arq['De Para'].fillna('N/A')\n",
    "base_arq['col de para entrada'] = base_arq['col de para entrada'].fillna('N/A')\n",
    "base_arq['col de para saida'] = base_arq['col de para saida'].fillna('N/A')\n"
   ]
  },
  {
   "cell_type": "code",
   "execution_count": 7,
   "id": "bb1d8ac9",
   "metadata": {},
   "outputs": [],
   "source": [
    "#Pegando os dados da planilha de estrutura e separando por colunas, tabbelas e as informçãoes para fazer de para.\n",
    "cols = base_arq[['Coluna Planilha','Aba Planilha','De Para','col de para entrada', 'col de para saida']].dropna()\n",
    "cols_local = cols['Aba Planilha'].unique()"
   ]
  },
  {
   "cell_type": "code",
   "execution_count": 8,
   "id": "0dfe31ba",
   "metadata": {},
   "outputs": [],
   "source": [
    "#Fazendo um dicionario com as infos da celula acima porem com a tabela como key.\n",
    "cols_dict={}\n",
    "for i in cols_local:\n",
    "    cols_dict[i]=cols[cols['Aba Planilha']==i][['Coluna Planilha','De Para','col de para entrada', 'col de para saida']]"
   ]
  },
  {
   "cell_type": "markdown",
   "id": "f402e309",
   "metadata": {},
   "source": [
    "## Fase 2 - Limpando todas as bases de dados que temos exluindo arquivos duplicados e nulos"
   ]
  },
  {
   "cell_type": "code",
   "execution_count": 10,
   "id": "990c48e9",
   "metadata": {},
   "outputs": [],
   "source": [
    "def clean_dup_null(data: pd.DataFrame) -> pd.DataFrame:\n",
    "    data_rf = data.dropna(how='all').copy()\n",
    "    data_rf = data_rf.drop_duplicates(keep='last').copy()\n",
    "    return data_rf"
   ]
  },
  {
   "cell_type": "code",
   "execution_count": 11,
   "id": "28330302",
   "metadata": {},
   "outputs": [],
   "source": [
    "data = {}\n",
    "for j in data_file.sheet_names:\n",
    "    data[j] = clean_dup_null(data_file.parse(j))"
   ]
  },
  {
   "cell_type": "markdown",
   "id": "43ed4451",
   "metadata": {},
   "source": [
    "##  Fase 3 - Fazer os de para."
   ]
  },
  {
   "cell_type": "code",
   "execution_count": 12,
   "id": "b2ee09eb",
   "metadata": {},
   "outputs": [],
   "source": [
    "# COlunas divergentes que encontramos. Inserir caso alguma outra necessite de alteração.\n",
    "# Key=Tabela de dados e Value = Tabela de estturuta\n",
    "map_cols = {'LANCAMENTO':{'CONTA':'ANALÍTICO'}}"
   ]
  },
  {
   "cell_type": "code",
   "execution_count": 13,
   "id": "d52a973c",
   "metadata": {},
   "outputs": [],
   "source": [
    "# Iteração para mudar o valor no dicionario de colunas o mapeamento acima.\n",
    "\n",
    "for table,df in cols_dict.items():\n",
    "    try:\n",
    "        if len(map_cols[table]) > 0:\n",
    "            for old,new in map_cols[table].items():\n",
    "                data[table]=data[table].rename(columns={old:new})\n",
    "    except:\n",
    "        continue\n"
   ]
  },
  {
   "cell_type": "code",
   "execution_count": 14,
   "id": "e1bbfc3e",
   "metadata": {},
   "outputs": [],
   "source": [
    "# Filtrando os dados somente necessários e que precisam ser feito de para.\n",
    "cols_d ={}\n",
    "col_total={}\n",
    "for table,df in cols_dict.items():\n",
    "    df_filter = df[df['De Para']!= 'N/A'].copy()\n",
    "    if not df_filter.empty:\n",
    "        cols_d[table] = (df_filter.values.tolist())\n",
    "    \n",
    "    col_total[table]=data[table].columns.tolist()\n"
   ]
  },
  {
   "cell_type": "code",
   "execution_count": 34,
   "id": "d4eb7af9",
   "metadata": {},
   "outputs": [],
   "source": [
    "# Aqui fazemos o de para. Iteramos nossas colunas e com isso filtramos elas nas bases de dados do nosso dict de dados.\n",
    "# Apos isso é iterado novamente dentro das informações que necessitam de de para para fazer este de para\n",
    "# Para automatização os valores de colunas para merge sao fornecidos na tabela de estrutura.\n",
    "df_refined = pd.DataFrame()\n",
    "for table,columns in col_total.items():\n",
    "    df_refined= pd.concat([df_refined,data[table][columns]],axis=1)\n",
    "    \n",
    "    try:\n",
    "        for k in cols_d[table]:\n",
    "            col_left = k[0]\n",
    "            table_right = k[1]\n",
    "            col_left_base = k[2]\n",
    "            col_target = k[3]\n",
    "            data[table_right] = data[table_right].rename(columns={col_left_base:col_left})\n",
    "            df_refined = df_refined.merge(data[table_right],on = col_left,how='left')\n",
    "            df_refined[k[0]] = df_refined[k[3]]\n",
    "    except:\n",
    "        continue\n",
    "\n"
   ]
  },
  {
   "cell_type": "code",
   "execution_count": 29,
   "id": "ae82f31f",
   "metadata": {},
   "outputs": [],
   "source": [
    "#Fazendo lista com todos as colunas necessarias.\n",
    "list_col_total=[]\n",
    "for i,value in col_total.items():\n",
    "    list_col_total += value"
   ]
  },
  {
   "cell_type": "code",
   "execution_count": 32,
   "id": "4c83442c",
   "metadata": {},
   "outputs": [],
   "source": [
    "# DataFrame final com o dado trusted e automatizado pela orfganização do mapeamento feito.\n",
    "df_trusted = df_refined[list_col_total]"
   ]
  },
  {
   "cell_type": "code",
   "execution_count": 35,
   "id": "9ec84b84",
   "metadata": {},
   "outputs": [],
   "source": [
    "# df_trusted a partir daqui pode se salvar ou enviar para onde for necessario a automatizer o processo"
   ]
  },
  {
   "cell_type": "code",
   "execution_count": null,
   "id": "664585e1",
   "metadata": {},
   "outputs": [],
   "source": []
  }
 ],
 "metadata": {
  "kernelspec": {
   "display_name": "Python 3 (ipykernel)",
   "language": "python",
   "name": "python3"
  },
  "language_info": {
   "codemirror_mode": {
    "name": "ipython",
    "version": 3
   },
   "file_extension": ".py",
   "mimetype": "text/x-python",
   "name": "python",
   "nbconvert_exporter": "python",
   "pygments_lexer": "ipython3",
   "version": "3.11.7"
  }
 },
 "nbformat": 4,
 "nbformat_minor": 5
}
